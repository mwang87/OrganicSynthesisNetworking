{
 "cells": [
  {
   "cell_type": "code",
   "execution_count": 21,
   "metadata": {},
   "outputs": [],
   "source": [
    "import requests\n",
    "import pandas as pd\n",
    "import networkx as nx"
   ]
  },
  {
   "cell_type": "code",
   "execution_count": 22,
   "metadata": {},
   "outputs": [],
   "source": [
    "import ming_spectrum_library"
   ]
  },
  {
   "cell_type": "code",
   "execution_count": 23,
   "metadata": {},
   "outputs": [],
   "source": [
    "DELTA_CONSTRAINT = 59\n",
    "TOLERANCE=0.1"
   ]
  },
  {
   "cell_type": "code",
   "execution_count": 24,
   "metadata": {},
   "outputs": [],
   "source": [
    "mol_net = nx.read_graphml(\"./data/METABOLOMICS-SNETS-V2-b35eac81-download_cytoscape_data-main.graphml\")\n",
    "spectrum_collection = ming_spectrum_library.SpectrumCollection(\"./data/METABOLOMICS-SNETS-V2-b35eac81-download_clustered_spectra-main.mgf\")"
   ]
  },
  {
   "cell_type": "code",
   "execution_count": 25,
   "metadata": {},
   "outputs": [
    {
     "name": "stdout",
     "output_type": "stream",
     "text": [
      "Spectra Loaded\t0\tReal\t0\n"
     ]
    }
   ],
   "source": [
    "spectrum_collection.load_from_file()"
   ]
  },
  {
   "cell_type": "code",
   "execution_count": 26,
   "metadata": {},
   "outputs": [],
   "source": [
    "def list_of_compounds_with_constraint_peak(spectrum_collection, constraint_mass, tolerance=1.0):\n",
    "    scans_set = set()\n",
    "    for spectrum in spectrum_collection.spectrum_list:\n",
    "        found = False\n",
    "        if spectrum == None:\n",
    "            continue\n",
    "        else:\n",
    "            for peak in spectrum.peaks:\n",
    "                #Checking if the actual mass is found\n",
    "                if abs(peak[0] - (constraint_mass + 1.007276) )  < tolerance:\n",
    "                    found = True\n",
    "                    break\n",
    "                #Checking if the neutral mass is found\n",
    "                elif abs(spectrum.mz - peak[0] - constraint_mass) < tolerance:\n",
    "                    found = True\n",
    "                    break\n",
    "                else:\n",
    "                    continue\n",
    "                    \n",
    "            if found:\n",
    "                scans_set.add(spectrum.scan)\n",
    "                \n",
    "    return scans_set"
   ]
  },
  {
   "cell_type": "code",
   "execution_count": 27,
   "metadata": {},
   "outputs": [],
   "source": [
    "constraint_scans = list_of_compounds_with_constraint_peak(spectrum_collection, DELTA_CONSTRAINT, TOLERANCE)"
   ]
  },
  {
   "cell_type": "code",
   "execution_count": 53,
   "metadata": {},
   "outputs": [
    {
     "data": {
      "text/plain": [
       "1441"
      ]
     },
     "execution_count": 53,
     "metadata": {},
     "output_type": "execute_result"
    }
   ],
   "source": [
    "len(constraint_scans)"
   ]
  },
  {
   "cell_type": "code",
   "execution_count": 29,
   "metadata": {},
   "outputs": [
    {
     "name": "stdout",
     "output_type": "stream",
     "text": [
      "NCGC00016418-16!9-methoxyfuro[3,2-g]chromen-7-one\n",
      "NCGC00385960-01!methyl 4,6-dihydroxy-2,3-dimethylbenzoate\n",
      "NCGC00385911-01_C15H24O2_2(1H)-Naphthalenone, 4a,5,6,7,8,8a-hexahydro-6-hydroxy-3,8-dimethyl-5-(1-methylethyl)-, (4aR,5S,6S,8R,8aS)-\n",
      "NCGC00385915-01_C15H18O3_(1aS,10aR)-1a,5,9-Trimethyl-1a,3,6,10a-tetrahydrooxireno[4,5]cyclodeca[1,2-b]furan-10(2H)-one\n",
      "NCGC00169002-05_C14H16O3_(6S)-4-Methoxy-6-(2-phenylethyl)-5,6-dihydro-2H-pyran-2-one\n",
      "NCGC00385483-01_C15H22O3_\n",
      "NCGC00179704-04_C15H24O3_2-Naphthaleneacetic acid, decahydro-8-hydroxy-4a,8-dimethyl-alpha-methylene-\n",
      "MLS000850648-01!4-hydroxy-3-phenyl-1H-quinolin-2-one\n",
      "NCGC00168884-02!2,6-dihydroxyanthracene-9,10-dione\n",
      "NCGC00381142-01_C15H14O4_1-(2,5-Dihydroxy-2-methyl-2,3-dihydrobenzo[de]chromen-4-yl)ethanone\n",
      "NCGC00385210-01!8-(2-hydroxy-3-methylbut-3-enyl)-7-methoxychromen-2-one\n",
      "NCGC00385915-01_C15H18O3_(1aS,10aR)-1a,5,9-Trimethyl-1a,3,6,10a-tetrahydrooxireno[4,5]cyclodeca[1,2-b]furan-10(2H)-one\n",
      "NCGC00180350-02_C15H22O4_2-[(3S,3aR,5R,7aS)-3a-Acetyl-3-hydroxy-7a-methyloctahydro-1H-inden-5-yl]acrylic acid\n",
      "NCGC00142613-04!5-methoxy-2-phenylchromen-4-one\n",
      "NCGC00380299-01!3-hydroxy-4-(3-hydroxyphenyl)-1H-quinolin-2-one\n",
      "NCGC00180191-02!8-(1,2-dihydroxy-3-methylbut-3-enyl)-7-methoxychromen-2-one\n",
      "NCGC00180191-03!8-(1,2-dihydroxy-3-methylbut-3-enyl)-7-methoxychromen-2-one\n",
      "NCGC00384760-01_C15H20O5_4,5-Dihydroxy-1a-(3-hydroxy-1-propen-2-yl)-7,7a-dimethyl-4,5,6,7,7a,7b-hexahydronaphtho[1,2-b]oxiren-2(1aH)-one\n",
      "NCGC00385649-01_C15H22O4_5,8-Dihydroxy-3,5,8-trimethyl-4a,5,6,7,7a,8,9,9a-octahydroazuleno[6,5-b]furan-2(4H)-one\n",
      "NCGC00381290-01!2,3,6,8-tetrahydroxy-1-methylxanthen-9-one\n",
      "NCGC00381269-01!2-(7-methoxy-2-oxochromen-8-yl)-3-methylbut-2-enal\n",
      "NCGC00169012-02!7-[(3,3-dimethyloxiran-2-yl)methoxy]-6-methoxychromen-2-one\n",
      "NCGC00384760-01_C15H20O5_4,5-Dihydroxy-1a-(3-hydroxy-1-propen-2-yl)-7,7a-dimethyl-4,5,6,7,7a,7b-hexahydronaphtho[1,2-b]oxiren-2(1aH)-one\n",
      "NCGC00380617-01_C16H26O4_1-Oxaspiro[2.5]octan-6-ol, 5-methoxy-4-[(2R,3R)-2-methyl-3-(3-methyl-2-buten-1-yl)oxiranyl]-, (3R,4S,5S,6R)-\n",
      "NCGC00385997-01!5,10-dimethoxy-2,2-dimethylpyrano[3,2-g]chromen-8-one\n",
      "NCGC00169192-02_C17H14N2O3_(3S,3'R)-4-Methyl-3'-phenylspiro[1,4-benzodiazepine-3,2'-oxirane]-2,5(1H,4H)-dione\n",
      "\"MLS000876947-01!7-(2,3-dihydroxy-3-methylbutoxy)-6-methoxychromen-2-one\"\n",
      "NCGC00180775-03_C20H30O3_18,19-Dihydroxykaur-16-en-6-one\n",
      "NCGC00169348-03!(3Z)-3-[[5-(2-methylbut-3-en-2-yl)-1H-imidazol-4-yl]methylidene]-6-propan-2-ylpiperazine-2,5-dione\n",
      "NCGC00380617-01_C16H26O4_1-Oxaspiro[2.5]octan-6-ol, 5-methoxy-4-[(2R,3R)-2-methyl-3-(3-methyl-2-buten-1-yl)oxiranyl]-, (3R,4S,5S,6R)-\n",
      "NCGC00180137-02!(3S)-8-hydroxy-3-methyl-3,4-dihydro-2H-benzo[a]anthracene-1,7,12-trione\n",
      "NCGC00381298-01!8-(2-hydroxy-1-methoxy-3-methylbut-3-enyl)-7-methoxychromen-2-one\n",
      "NCGC00385642-01!1,4-dihydroxyheptadec-16-en-2-yl acetate\n",
      "NCGC00178646-02!2,4-dihydroxyheptadecyl acetate\n",
      "NCGC00381362-01_C17H16O7_\n",
      "NCGC00381425-01!8-hydroxy-8-(3-octyloxiran-2-yl)octanoic acid\n",
      "NCGC00386059-01_C20H28O3_(5xi,9xi)-12-Oxoabieta-7,13-dien-18-oic acid\n",
      "NCGC00169103-03_C19H18O6_Benz[3,4]anthra[1,2-b]oxirene-5,6-dione, 1a,2,3,4,5b,11,11a,11b-octahydro-10,11,11a-trihydroxy-3-methyl-\n",
      "NCGC00386110-01_C19H23N3O2_(3S,6S)-3-Methyl-6-{[2-(2-methyl-3-buten-2-yl)-1H-indol-3-yl]methyl}-2,5-piperazinedione\n",
      "NCGC00385279-01!4-[(3S)-7-hydroxy-8-(3-methylbut-2-enyl)-3,4-dihydro-2H-chromen-3-yl]benzene-1,3-diol\n",
      "NCGC00385279-01!4-[(3S)-7-hydroxy-8-(3-methylbut-2-enyl)-3,4-dihydro-2H-chromen-3-yl]benzene-1,3-diol\n",
      "NCGC00385993-01!6-[(3,3-dimethyloxiran-2-yl)methyl]-7-methoxy-3-(2-methylbut-3-en-2-yl)chromen-2-one\n",
      "NCGC00179759-02_C19H14N4O2_Quinazolino[3',2':1,6]pyrido[2,3-b][1,4]benzodiazepine-9,16-dione, 6,7,7a,8-tetrahydro-\n",
      "NCGC00186665-03!2,3-dihydroxypropyl hexadecanoate\n",
      "NCGC00381362-01_C17H16O7_\n",
      "NCGC00380305-01_C20H28O4_(1R,2R,8aR)-7-Isopropylidene-1,8a-dimethyl-6-oxo-1,2,3,4,6,7,8,8a-octahydro-2-naphthalenyl (2E)-4-hydroxy-2-methyl-2-butenoate\n",
      "NCGC00169961-02!4-hydroxy-3-[(2E,6E)-4-hydroxy-3,7,11-trimethyldodeca-2,6,10-trienyl]benzoic acid\n",
      "NCGC00169103-03_C19H18O6_Benz[3,4]anthra[1,2-b]oxirene-5,6-dione, 1a,2,3,4,5b,11,11a,11b-octahydro-10,11,11a-trihydroxy-3-methyl-\n",
      "NCGC00180657-03!(3S,6R,6aS,7S)-6,6a,7,8-tetrahydroxy-3-methyl-3,4,5,6,7,12a-hexahydro-2H-benzo[a]anthracene-1,12-dione\n",
      "NCGC00386063-01_C21H28O4_\n",
      "NCGC00384746-01!6-(2,3-dihydroxy-3-methylbutyl)-7-methoxy-3-(2-methylbut-3-en-2-yl)chromen-2-one\n",
      "NCGC00380426-01_C20H28O5_7,10-Methano-1H-benzocycloundecene-4-carboxylic acid, 2,3,4,4a,5,6,9,10,11,12,13,13a-dodecahydro-14-hydroxy-4,13a-dimethyl-9,13-dioxo-, methyl ester, (4R,4aS,10R,13aR)-\n",
      "NCGC00384717-01!4-(7-hydroxy-6-methoxy-2,3-dimethyl-1,2,3,4-tetrahydronaphthalen-1-yl)benzene-1,2-diol\n",
      "NCGC00381425-01!8-hydroxy-8-(3-octyloxiran-2-yl)octanoic acid\n",
      "NCGC00169138-03_C19H20O7_Benz[a]anthracene-1,12-dione, 2,3,4,5,6,6a,7,12a-octahydro-5,6,6a,7,8-pentahydroxy-3-methyl-, (3R,6aR,7S,12aS)-\n",
      "NCGC00386089-01_C21H28O5_\n",
      "NCGC00180558-02!\n",
      "NCGC00180512-02!\n",
      "NCGC00384685-01_C21H18O6_7-Oxabicyclo[4.1.0]hept-4-ene-2,3-diol, 1-[(benzoyloxy)methyl]-, 3-benzoate\n",
      "NCGC00381311-01!\n",
      "NCGC00169136-03!\n",
      "NCGC00381074-01![1,3-dihydroxy-1-(7-methoxy-2-oxochromen-6-yl)-3-methylbutan-2-yl] 3-methylbut-2-enoate\n",
      "NCGC00384561-01![1,3-dihydroxy-1-(7-methoxy-2-oxochromen-6-yl)-3-methylbutan-2-yl] 3-methylbutanoate\n",
      "NCGC00386089-01_C21H28O5_\n",
      "NCGC00347554-03!(5-benzoyloxy-1,2,6-trihydroxycyclohex-3-en-1-yl)methyl benzoate\n",
      "NCGC00169451-02!6-[(2E,4E,6E)-4,6-dimethyl-7-(1,2,4-trimethyl-3,6-dioxabicyclo[3.1.0]hexan-4-yl)hepta-2,4,6-trien-2-yl]-4-methoxy-5-methylpyran-2-one\n",
      "NCGC00169451-02!6-[(2E,4E,6E)-4,6-dimethyl-7-(1,2,4-trimethyl-3,6-dioxabicyclo[3.1.0]hexan-4-yl)hepta-2,4,6-trien-2-yl]-4-methoxy-5-methylpyran-2-one\n",
      "NCGC00380628-01_C22H28O6_(4E,8E)-10-(4-Hydroxy-6-methoxy-7-methyl-3-oxo-1,3-dihydro-2-benzofuran-5-yl)-4,8-dimethyl-4,8-decadienoic acid\n",
      "MLS001333174-01!BIS-(2-ETHYLHEXYL) PHTHALATE117-81-7\n",
      "NCGC00380304-01_C24H35NO5_(1aS,2R,3R,6E,10S,10aR,11S,13aS,14aS)-2,3-Dihydroxy-11-isobutyl-6,9,10-trimethyl-3,4,5,7a,10,10a,11,12-octahydro-1aH-oxireno[9,10]cycloundeca[1,2-d]isoindole-13,14(2H,14aH)-dione\n",
      "NCGC00347828-02_C24H37NO5_(7E)-11,12,13-Trihydroxy-3-isobutyl-4,5,8-trimethyl-3,3a,4,6a,9,10,11,12,13,14-decahydro-1H-cycloundeca[d]isoindole-1,15(2H)-dione\n",
      "NCGC00381063-01_C23H32O6_2H,9H-Naphtho[2,1-b]pyrano[3,2-e]pyran-1,11(5H,10H)-dione, 3-(acetyloxy)-3,4,4a,6,6a,12,12a,12b-octahydro-4,4,6a,9,12b-pentamethyl-\n",
      "NCGC00180384-03_C22H32O6_(1S,2R,4aR,8aR)-1-Acetoxy-7-isopropylidene-1,4a-dimethyl-6-oxodecahydro-2-naphthalenyl 2,3-dimethyl-2-oxiranecarboxylate\n",
      "NCGC00180384-03_C22H32O6_(1S,2R,4aR,8aR)-1-Acetoxy-7-isopropylidene-1,4a-dimethyl-6-oxodecahydro-2-naphthalenyl 2,3-dimethyl-2-oxiranecarboxylate\n",
      "NCGC00347704-02_C24H32O7_2H-Oxireno[1,10a]phenanthro[3,2-b]furan-10(11bH)-one, 5,7-bis(acetyloxy)-3,3a,4,5,6,7,7a,7b,8,8a-decahydro-4,4,7a,11-tetramethyl-, (1aS,3aR,5S,7S,7aR,7bS,8aR,11bR)-\n",
      "NCGC00380477-01_C24H32O7_Benzoic acid, 4-hydroxy-, (3R,4S,8aS)-2-(acetyloxy)-1,2,3,3a,4,7,8,8a-octahydro-3,8-dihydroxy-6,8a-dimethyl-3-(1-methylethyl)-4-azulenyl ester\n",
      "NCGC00380375-01!6-[(4E,6E)-2,3-dihydroxy-4,6-dimethyl-7-(1,2,4-trimethyl-3,6-dioxabicyclo[3.1.0]hexan-4-yl)hepta-4,6-dien-2-yl]-4-methoxy-3,5-dimethylpyran-2-one\n",
      "NCGC00347824-02!6-[(2E,6E)-4,5-dihydroxy-4,6-dimethyl-7-(1,2,4-trimethyl-3,6-dioxabicyclo[3.1.0]hexan-4-yl)hepta-2,6-dien-2-yl]-4-methoxy-5-methylpyran-2-one\n",
      "NCGC00169288-03_C21H26O9_(1aS,3R,4R,5S,5aS,8aR,10R,10aS)-4-Acetoxy-3-hydroxy-3,10-dimethyl-6-methylene-2,7-dioxododecahydrooxireno[7,8]cyclodeca[1,2-b]furan-5-yl methacrylate\n",
      "NCGC00381300-01_C21H19ClO6_[5-(Benzoyloxy)-3-chloro-4,6-dihydroxy-1-cyclohexen-1-yl]methyl benzoate\n",
      "NCGC00380614-01_C24H23N5O4_2H-Pyrazino[2,1-b]quinazoline-3,6(1H,4H)-dione, 1-methyl-4-[[(2S,9S,9aS)-2,3,9,9a-tetrahydro-9-hydroxy-2-methyl-3-oxo-1H-imidazo[1,2-a]indol-9-yl]methyl]-, (1S,4R)-\n",
      "NCGC00385123-01_C22H30O6_7b,9-Dihydroxy-3-(hydroxymethyl)-1,1,6,8-tetramethyl-5-oxo-1,1a,1b,4,4a,5,7a,7b,8,9-decahydro-9aH-cyclopropa[3,4]benzo[1,2-e]azulen-9a-yl acetate\n",
      "NCGC00380375-01!6-[(4E,6E)-2,3-dihydroxy-4,6-dimethyl-7-(1,2,4-trimethyl-3,6-dioxabicyclo[3.1.0]hexan-4-yl)hepta-4,6-dien-2-yl]-4-methoxy-3,5-dimethylpyran-2-one\n",
      "NCGC00179715-03!methyl 2-[[3-[(3,3-dimethyloxiran-2-yl)methyl]-4-hydroxyphenyl]methyl]-4-hydroxy-3-(4-hydroxyphenyl)-5-oxofuran-2-carboxylate\n",
      "NCGC00385012-01_C22H32O8_(1S,4aS,6S,7R,7aS)-6-Acetoxy-4-{[(3-methylbutanoyl)oxy]methyl}-4a,5,6,7a-tetrahydro-1H-spiro[cyclopenta[c]pyran-7,2'-oxiran]-1-yl 3-methylbutanoate\n",
      "NCGC00347503-02!8-[2-(3,4-dihydroxy-2,5-dimethoxyoxolan-3-yl)ethyl]-4a,7,8-trimethylspiro[2,3,5,6,7,8a-hexahydro-1H-naphthalene-4,2'-oxirane]-2,3-diol\n",
      "NCGC00385098-01![8,8-dimethyl-9-(3-methylbut-2-enoyloxy)-2-oxo-9,10-dihydropyrano[2,3-f]chromen-10-yl] 3-methylbut-2-enoate\n",
      "NCGC00347704-02_C24H32O7_2H-Oxireno[1,10a]phenanthro[3,2-b]furan-10(11bH)-one, 5,7-bis(acetyloxy)-3,3a,4,5,6,7,7a,7b,8,8a-decahydro-4,4,7a,11-tetramethyl-, (1aS,3aR,5S,7S,7aR,7bS,8aR,11bR)-\n",
      "NCGC00179715-03!methyl 2-[[3-[(3,3-dimethyloxiran-2-yl)methyl]-4-hydroxyphenyl]methyl]-4-hydroxy-3-(4-hydroxyphenyl)-5-oxofuran-2-carboxylate\n",
      "NCGC00178483-05_C26H30O8_1H,3H-Oxireno[c]pyrano[4'',3'':2',3']furo[3',4':5,6]naphtho[1,2-d]pyran-3,8,10(6H,9aH)-trione, 12-(3-furanyl)decahydro-6,6,8a,12a-tetramethyl-, (4aS,6aR,8aR,8bR,9aS,12S,12aS,14aR,14bR)-\n",
      "NCGC00179126-03_C28H34O7_(6R,6aS,6bR,7aS,10S,10aS,12bR)-10-(3-Furyl)-4,4,6a,10a,12b-pentamethyl-3,8-dioxo-3,4,4a,5,6,6a,7a,8,10,10a,11,12,12a,12b-tetradecahydronaphtho[2,1-f]oxireno[d]isochromen-6-yl acetate\n",
      "NCGC00380619-01_C27H37NO7_Spiro[2H-furo[2,3-e]isoindole-2,1'(2'H)-naphthalene]-7(3H)-butanoic acid, 3',4',4'a,5',6,6',7',8,8',8'a-decahydro-4,6',7'-trihydroxy-2',5',5',8'a-tetramethyl-6-oxo-, (2R,2'R,6'S,7'R,8'aS)-\n",
      "NCGC00380616-01_C28H39NO7_Spiro[2H-furo[2,3-e]isoindole-2,1'(2'H)-naphthalene]-7(3H)-acetic acid, 3',4',4'a,5',6,6',7',8,8',8'a-decahydro-4,6',7'-trihydroxy-2',5',5',8'a-tetramethyl-alpha-(1-methylethyl)-6-oxo-, (alphaS,2R,2'R,6'S,7'R,8'aS)-\n",
      "NCGC00385184-01_C32H36N2O5_chaetoglobin A\n",
      "NCGC00384842-01_C28H36O9_(1R,2R,4S,16R,17R,20S)-13,20-Dimethoxy-4,7,17,22,22-pentamethyl-11-oxo-5,10,21,23-tetraoxahexacyclo[18.2.1.0~1,17~.0~4,16~.0~6,14~.0~8,12~]tricosa-6(14),7,12-trien-2-yl acetate\n",
      "NCGC00380661-01_C23H36O12_\n",
      "NCGC00385184-01_C32H36N2O5_chaetoglobin A\n",
      "NCGC00384810-01!\n",
      "NCGC00384810-01!\n",
      "NCGC00386060-01_C31H44N4O6_(3S,6R,9S,15aS)-6-Benzyl-9-isobutyl-3-[6-(2-oxiranyl)-6-oxohexyl]octahydro-2H-pyrido[1,2-a][1,4,7,10]tetraazacyclododecine-1,4,7,10(3H,12H)-tetrone\n",
      "NCGC00384810-01!\n",
      "NCGC00381203-01_C31H46N4O7_2H-Pyrido[1,2-a][1,4,7,10]tetraazacyclododecine-1,4,7,10(3H,12H)-tetrone, 3-(7,8-dihydroxy-6-oxooctyl)octahydro-9-(1-methylpropyl)-6-(phenylmethyl)-\n",
      "NCGC00381203-01_C31H46N4O7_2H-Pyrido[1,2-a][1,4,7,10]tetraazacyclododecine-1,4,7,10(3H,12H)-tetrone, 3-(7,8-dihydroxy-6-oxooctyl)octahydro-9-(1-methylpropyl)-6-(phenylmethyl)-\n",
      "NCGC00386078-01_C36H63N3O9_(3S,6R,9S,12R,15S,18R)-3,9,15-Tri[(2S)-2-butanyl]-6,12,18-triisopropyl-4,10,16-trimethyl-1,7,13-trioxa-4,10,16-triazacyclooctadecane-2,5,8,11,14,17-hexone\n",
      "NCGC00385148-01_C37H42O13_(1S,2R,4S,5R,6S,7S,8R,9R,12R)-4,7,12-Triacetoxy-6-(acetoxymethyl)-2,10,10-trimethyl-11-oxatricyclo[7.2.1.0~1,6~]dodecane-5,8-diyl dibenzoate\n",
      "NCGC00179920-02![(2S,3R,4R,5S,6S)-2-[[(1aS,1bS,2S,5aR,6S,6aS)-1a-(hydroxymethyl)-2-[(2S,3R,4S,5S,6R)-3,4,5-trihydroxy-6-(hydroxymethyl)oxan-2-yl]oxy-2,5a,6,6a-tetrahydro-1bH-oxireno[5,6]cyclopenta[1,3-c]pyran-6-yl]oxy]-5-hydroxy-6-methyl-3-[(E)-3-phenylprop-2-enoyl]oxyoxan-4-yl] (E)-3-phenylprop-2-enoate\n"
     ]
    }
   ],
   "source": [
    "def isidentified(scan_string, mol_net):\n",
    "    if not scan_string in mol_net.nodes:\n",
    "        return False\n",
    "    elif not \"Compound_Name\" in mol_net.nodes[scan_string]:\n",
    "        return False\n",
    "    else:\n",
    "        return True\n",
    "\n",
    "candidate_pairs = []\n",
    "for spectrum1 in spectrum_collection.spectrum_list:\n",
    "    spectrum1_identified = isidentified(str(spectrum1.scan), mol_net)\n",
    "    \n",
    "    for spectrum2 in spectrum_collection.spectrum_list:\n",
    "        spectrum2_identified = isidentified(str(spectrum2.scan), mol_net)\n",
    "        \n",
    "        if (spectrum1_identified or spectrum2_identified) == False:\n",
    "            continue\n",
    "        \n",
    "        delta_mz = spectrum2.mz - spectrum1.mz\n",
    "        if (delta_mz - DELTA_CONSTRAINT) < TOLERANCE and (delta_mz - DELTA_CONSTRAINT) > 0:\n",
    "            #print(spectrum1.scan, spectrum2.scan, delta_mz)\n",
    "            if spectrum2.scan in constraint_scans and not (spectrum1.scan in constraint_scans):\n",
    "                #print(spectrum1.scan, spectrum2.scan)\n",
    "                candidate_pairs.append([spectrum1.scan, spectrum2.scan])"
   ]
  },
  {
   "cell_type": "code",
   "execution_count": 55,
   "metadata": {},
   "outputs": [
    {
     "data": {
      "text/plain": [
       "{'G6': 0.0,\n",
       " 'G5': 0.0,\n",
       " 'parent mass': 143.04,\n",
       " 'AllGroups': ' ',\n",
       " 'DefaultGroups': 'G1,G3',\n",
       " 'sum(precursor intensity)': 793892.0,\n",
       " 'UniqueFileSources': '201905_MS2pos_epoxide_A-B1.mzML|201905_MS2pos_epoxide_D-B4.mzML',\n",
       " 'number of spectra': 2,\n",
       " 'charge': 0,\n",
       " 'RTMean': 456.795,\n",
       " 'componentindex': '-1',\n",
       " 'G2': 0.0,\n",
       " 'G3': 1.0,\n",
       " 'precursor mass': 143.04,\n",
       " 'RTConsensus': 0.0,\n",
       " 'GNPSLinkout_Network': 'https://gnps.ucsd.edu/ProteoSAFe/result.jsp?view=network_displayer&componentindex=-1&task=44ef3f1d2d414e0fabcbeb3634e839ce&show=true',\n",
       " 'G4': 0.0,\n",
       " 'cluster index': 1,\n",
       " 'GNPSLinkout_Cluster': 'https://gnps.ucsd.edu//ProteoSAFe/result.jsp?task=44ef3f1d2d414e0fabcbeb3634e839ce&view=cluster_details&protein=1&show=true',\n",
       " 'G1': 1.0}"
      ]
     },
     "execution_count": 55,
     "metadata": {},
     "output_type": "execute_result"
    }
   ],
   "source": [
    "mol_net.nodes[\"1\"]"
   ]
  },
  {
   "cell_type": "code",
   "execution_count": 56,
   "metadata": {},
   "outputs": [],
   "source": [
    "all_edges = list(mol_net.edges)\n",
    "\n",
    "mol_net.remove_edges_from(all_edges)"
   ]
  },
  {
   "cell_type": "code",
   "execution_count": 57,
   "metadata": {},
   "outputs": [],
   "source": [
    "mol_net.add_edges_from(candidate_pairs)"
   ]
  },
  {
   "cell_type": "code",
   "execution_count": 58,
   "metadata": {},
   "outputs": [],
   "source": [
    "nx.write_graphml(mol_net, \"data/output.graphml\")"
   ]
  },
  {
   "cell_type": "code",
   "execution_count": null,
   "metadata": {},
   "outputs": [],
   "source": []
  }
 ],
 "metadata": {
  "kernelspec": {
   "display_name": "Python 3",
   "language": "python",
   "name": "python3"
  },
  "language_info": {
   "codemirror_mode": {
    "name": "ipython",
    "version": 3
   },
   "file_extension": ".py",
   "mimetype": "text/x-python",
   "name": "python",
   "nbconvert_exporter": "python",
   "pygments_lexer": "ipython3",
   "version": "3.7.3"
  }
 },
 "nbformat": 4,
 "nbformat_minor": 4
}
