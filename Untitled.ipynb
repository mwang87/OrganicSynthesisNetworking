{
 "cells": [
  {
   "cell_type": "code",
   "execution_count": 37,
   "metadata": {},
   "outputs": [],
   "source": [
    "import requests\n",
    "import pandas as pd\n",
    "import networkx as nx"
   ]
  },
  {
   "cell_type": "code",
   "execution_count": 38,
   "metadata": {},
   "outputs": [],
   "source": [
    "import ming_spectrum_library"
   ]
  },
  {
   "cell_type": "code",
   "execution_count": 39,
   "metadata": {},
   "outputs": [],
   "source": [
    "DELTA_CONSTRAINT = 59\n",
    "TOLERANCE=0.1\n",
    "MIN_PRECURSOR_INTENSITY = 700000"
   ]
  },
  {
   "cell_type": "code",
   "execution_count": 40,
   "metadata": {},
   "outputs": [],
   "source": [
    "mol_net = nx.read_graphml(\"./data/METABOLOMICS-SNETS-V2-b35eac81-download_cytoscape_data-main.graphml\")\n",
    "spectrum_collection = ming_spectrum_library.SpectrumCollection(\"./data/METABOLOMICS-SNETS-V2-b35eac81-download_clustered_spectra-main.mgf\")"
   ]
  },
  {
   "cell_type": "code",
   "execution_count": 41,
   "metadata": {},
   "outputs": [
    {
     "name": "stdout",
     "output_type": "stream",
     "text": [
      "Spectra Loaded\t0\tReal\t0\n"
     ]
    }
   ],
   "source": [
    "spectrum_collection.load_from_file()"
   ]
  },
  {
   "cell_type": "code",
   "execution_count": 42,
   "metadata": {},
   "outputs": [],
   "source": [
    "def list_of_compounds_with_constraint_peak(spectrum_collection, constraint_mass, tolerance=1.0):\n",
    "    scans_set = set()\n",
    "    for spectrum in spectrum_collection.spectrum_list:\n",
    "        found = False\n",
    "        if spectrum == None:\n",
    "            continue\n",
    "        else:\n",
    "            for peak in spectrum.peaks:\n",
    "                #Checking if the actual mass is found\n",
    "                if abs(peak[0] - (constraint_mass + 1.007276) )  < tolerance:\n",
    "                    found = True\n",
    "                    break\n",
    "                #Checking if the neutral mass is found\n",
    "                elif abs(spectrum.mz - peak[0] - constraint_mass) < tolerance:\n",
    "                    found = True\n",
    "                    break\n",
    "                else:\n",
    "                    continue\n",
    "                    \n",
    "            if found:\n",
    "                scans_set.add(spectrum.scan)\n",
    "                \n",
    "    return scans_set"
   ]
  },
  {
   "cell_type": "code",
   "execution_count": 43,
   "metadata": {},
   "outputs": [],
   "source": [
    "constraint_scans = list_of_compounds_with_constraint_peak(spectrum_collection, DELTA_CONSTRAINT, TOLERANCE)"
   ]
  },
  {
   "cell_type": "code",
   "execution_count": 44,
   "metadata": {},
   "outputs": [
    {
     "data": {
      "text/plain": [
       "1450"
      ]
     },
     "execution_count": 44,
     "metadata": {},
     "output_type": "execute_result"
    }
   ],
   "source": [
    "len(constraint_scans)"
   ]
  },
  {
   "cell_type": "code",
   "execution_count": 45,
   "metadata": {},
   "outputs": [],
   "source": [
    "def isidentified(scan_string, mol_net):\n",
    "    if not scan_string in mol_net.nodes:\n",
    "        return False\n",
    "    elif not \"Compound_Name\" in mol_net.nodes[scan_string]:\n",
    "        return False\n",
    "    else:\n",
    "        return True\n",
    "\n",
    "candidate_pairs = []\n",
    "for spectrum1 in spectrum_collection.spectrum_list:\n",
    "    spectrum1_identified = isidentified(str(spectrum1.scan), mol_net)\n",
    "    \n",
    "    for spectrum2 in spectrum_collection.spectrum_list:\n",
    "        spectrum2_identified = isidentified(str(spectrum2.scan), mol_net)\n",
    "        \n",
    "        if (spectrum1_identified or spectrum2_identified) == False:\n",
    "            continue\n",
    "            \n",
    "        if spectrum1_identified and mol_net.nodes[str(spectrum2.scan)][\"sum(precursor intensity)\"] < MIN_PRECURSOR_INTENSITY:\n",
    "            continue\n",
    "            \n",
    "        if spectrum2_identified and mol_net.nodes[str(spectrum1.scan)][\"sum(precursor intensity)\"] < MIN_PRECURSOR_INTENSITY:\n",
    "            continue\n",
    "        \n",
    "        delta_mz = spectrum2.mz - spectrum1.mz\n",
    "        if (delta_mz - DELTA_CONSTRAINT) < TOLERANCE and (delta_mz - DELTA_CONSTRAINT) > 0:\n",
    "            #print(spectrum1.scan, spectrum2.scan, delta_mz)\n",
    "            if spectrum2.scan in constraint_scans and not (spectrum1.scan in constraint_scans):\n",
    "                #print(spectrum1.scan, spectrum2.scan)\n",
    "                candidate_pairs.append([spectrum1.scan, spectrum2.scan])"
   ]
  },
  {
   "cell_type": "code",
   "execution_count": 46,
   "metadata": {},
   "outputs": [
    {
     "data": {
      "text/plain": [
       "{'GNPSLinkout_Network': 'https://gnps.ucsd.edu/ProteoSAFe/result.jsp?view=network_displayer&componentindex=-1&task=b35eac819e424a559068a16e3fd89a87&show=true',\n",
       " 'G4': 0.0,\n",
       " 'DefaultGroups': 'G1,G6',\n",
       " 'cluster index': 1,\n",
       " 'sum(precursor intensity)': 793892.0,\n",
       " 'G1': 1.0,\n",
       " 'UniqueFileSources': '201905_MS2pos_epoxide_D-B4.mzML|201905_MS2pos_epoxide_A-B1.mzML',\n",
       " 'G3': 0.0,\n",
       " 'number of spectra': 2,\n",
       " 'parent mass': 143.04,\n",
       " 'G5': 0.0,\n",
       " 'G6': 1.0,\n",
       " 'GNPSLinkout_Cluster': 'https://gnps.ucsd.edu//ProteoSAFe/result.jsp?task=b35eac819e424a559068a16e3fd89a87&view=cluster_details&protein=1&show=true',\n",
       " 'G2': 0.0,\n",
       " 'precursor mass': 143.04,\n",
       " 'charge': 0,\n",
       " 'RTMean': 456.795,\n",
       " 'AllGroups': ' ',\n",
       " 'componentindex': '-1',\n",
       " 'RTConsensus': 0.0}"
      ]
     },
     "execution_count": 46,
     "metadata": {},
     "output_type": "execute_result"
    }
   ],
   "source": [
    "mol_net.nodes[\"1\"]"
   ]
  },
  {
   "cell_type": "code",
   "execution_count": 47,
   "metadata": {},
   "outputs": [],
   "source": [
    "all_edges = list(mol_net.edges)\n",
    "\n",
    "mol_net.remove_edges_from(all_edges)"
   ]
  },
  {
   "cell_type": "code",
   "execution_count": 48,
   "metadata": {},
   "outputs": [],
   "source": [
    "mol_net.add_edges_from(candidate_pairs)"
   ]
  },
  {
   "cell_type": "code",
   "execution_count": 49,
   "metadata": {},
   "outputs": [],
   "source": [
    "nx.write_graphml(mol_net, \"data/output.graphml\")"
   ]
  },
  {
   "cell_type": "code",
   "execution_count": null,
   "metadata": {},
   "outputs": [],
   "source": []
  }
 ],
 "metadata": {
  "kernelspec": {
   "display_name": "Python 3",
   "language": "python",
   "name": "python3"
  },
  "language_info": {
   "codemirror_mode": {
    "name": "ipython",
    "version": 3
   },
   "file_extension": ".py",
   "mimetype": "text/x-python",
   "name": "python",
   "nbconvert_exporter": "python",
   "pygments_lexer": "ipython3",
   "version": "3.7.3"
  }
 },
 "nbformat": 4,
 "nbformat_minor": 4
}
