{
 "cells": [
  {
   "cell_type": "code",
   "execution_count": 46,
   "metadata": {},
   "outputs": [],
   "source": [
    "import requests\n",
    "import pandas as pd\n",
    "import networkx as nx"
   ]
  },
  {
   "cell_type": "code",
   "execution_count": 47,
   "metadata": {},
   "outputs": [],
   "source": [
    "import ming_spectrum_library"
   ]
  },
  {
   "cell_type": "code",
   "execution_count": 48,
   "metadata": {},
   "outputs": [],
   "source": [
    "DELTA_CONSTRAINT = 59\n",
    "TOLERANCE=0.1"
   ]
  },
  {
   "cell_type": "code",
   "execution_count": 49,
   "metadata": {},
   "outputs": [],
   "source": [
    "mol_net = nx.read_graphml(\"./data/network.graphml\")\n",
    "spectrum_collection = ming_spectrum_library.SpectrumCollection(\"./data/specs_ms.mgf\")"
   ]
  },
  {
   "cell_type": "code",
   "execution_count": 50,
   "metadata": {},
   "outputs": [
    {
     "name": "stdout",
     "output_type": "stream",
     "text": [
      "Spectra Loaded\t0\tReal\t0\n"
     ]
    }
   ],
   "source": [
    "spectrum_collection.load_from_file()"
   ]
  },
  {
   "cell_type": "code",
   "execution_count": 51,
   "metadata": {},
   "outputs": [],
   "source": [
    "def list_of_compounds_with_constraint_peak(spectrum_collection, constraint_mass, tolerance=1.0):\n",
    "    scans_set = set()\n",
    "    for spectrum in spectrum_collection.spectrum_list:\n",
    "        found = False\n",
    "        if spectrum == None:\n",
    "            continue\n",
    "        else:\n",
    "            for peak in spectrum.peaks:\n",
    "                #Checking if the actual mass is found\n",
    "                if abs(peak[0] - (constraint_mass + 1.007276) )  < tolerance:\n",
    "                    found = True\n",
    "                    break\n",
    "                #Checking if the neutral mass is found\n",
    "                elif abs(spectrum.mz - peak[0] - constraint_mass) < tolerance:\n",
    "                    found = True\n",
    "                    break\n",
    "                else:\n",
    "                    continue\n",
    "                    \n",
    "            if found:\n",
    "                scans_set.add(spectrum.scan)\n",
    "                \n",
    "    return scans_set"
   ]
  },
  {
   "cell_type": "code",
   "execution_count": 52,
   "metadata": {},
   "outputs": [],
   "source": [
    "constraint_scans = list_of_compounds_with_constraint_peak(spectrum_collection, DELTA_CONSTRAINT, TOLERANCE)"
   ]
  },
  {
   "cell_type": "code",
   "execution_count": 53,
   "metadata": {},
   "outputs": [
    {
     "data": {
      "text/plain": [
       "1441"
      ]
     },
     "execution_count": 53,
     "metadata": {},
     "output_type": "execute_result"
    }
   ],
   "source": [
    "len(constraint_scans)"
   ]
  },
  {
   "cell_type": "code",
   "execution_count": 54,
   "metadata": {},
   "outputs": [],
   "source": [
    "candidate_pairs = []\n",
    "for spectrum1 in spectrum_collection.spectrum_list:\n",
    "    for spectrum2 in spectrum_collection.spectrum_list:\n",
    "        delta_mz = spectrum2.mz - spectrum1.mz\n",
    "        if (delta_mz - DELTA_CONSTRAINT) < TOLERANCE and (delta_mz - DELTA_CONSTRAINT) > 0:\n",
    "            #print(spectrum1.scan, spectrum2.scan, delta_mz)\n",
    "            if spectrum2.scan in constraint_scans and not (spectrum1.scan in constraint_scans):\n",
    "                #print(spectrum1.scan, spectrum2.scan)\n",
    "                candidate_pairs.append([spectrum1.scan, spectrum2.scan])"
   ]
  },
  {
   "cell_type": "code",
   "execution_count": 55,
   "metadata": {},
   "outputs": [
    {
     "data": {
      "text/plain": [
       "{'G6': 0.0,\n",
       " 'G5': 0.0,\n",
       " 'parent mass': 143.04,\n",
       " 'AllGroups': ' ',\n",
       " 'DefaultGroups': 'G1,G3',\n",
       " 'sum(precursor intensity)': 793892.0,\n",
       " 'UniqueFileSources': '201905_MS2pos_epoxide_A-B1.mzML|201905_MS2pos_epoxide_D-B4.mzML',\n",
       " 'number of spectra': 2,\n",
       " 'charge': 0,\n",
       " 'RTMean': 456.795,\n",
       " 'componentindex': '-1',\n",
       " 'G2': 0.0,\n",
       " 'G3': 1.0,\n",
       " 'precursor mass': 143.04,\n",
       " 'RTConsensus': 0.0,\n",
       " 'GNPSLinkout_Network': 'https://gnps.ucsd.edu/ProteoSAFe/result.jsp?view=network_displayer&componentindex=-1&task=44ef3f1d2d414e0fabcbeb3634e839ce&show=true',\n",
       " 'G4': 0.0,\n",
       " 'cluster index': 1,\n",
       " 'GNPSLinkout_Cluster': 'https://gnps.ucsd.edu//ProteoSAFe/result.jsp?task=44ef3f1d2d414e0fabcbeb3634e839ce&view=cluster_details&protein=1&show=true',\n",
       " 'G1': 1.0}"
      ]
     },
     "execution_count": 55,
     "metadata": {},
     "output_type": "execute_result"
    }
   ],
   "source": [
    "mol_net.nodes[\"1\"]"
   ]
  },
  {
   "cell_type": "code",
   "execution_count": 56,
   "metadata": {},
   "outputs": [],
   "source": [
    "all_edges = list(mol_net.edges)\n",
    "\n",
    "mol_net.remove_edges_from(all_edges)"
   ]
  },
  {
   "cell_type": "code",
   "execution_count": 57,
   "metadata": {},
   "outputs": [],
   "source": [
    "mol_net.add_edges_from(candidate_pairs)"
   ]
  },
  {
   "cell_type": "code",
   "execution_count": 58,
   "metadata": {},
   "outputs": [],
   "source": [
    "nx.write_graphml(mol_net, \"data/output.graphml\")"
   ]
  },
  {
   "cell_type": "code",
   "execution_count": null,
   "metadata": {},
   "outputs": [],
   "source": []
  }
 ],
 "metadata": {
  "kernelspec": {
   "display_name": "Python 3",
   "language": "python",
   "name": "python3"
  },
  "language_info": {
   "codemirror_mode": {
    "name": "ipython",
    "version": 3
   },
   "file_extension": ".py",
   "mimetype": "text/x-python",
   "name": "python",
   "nbconvert_exporter": "python",
   "pygments_lexer": "ipython3",
   "version": "3.7.3"
  }
 },
 "nbformat": 4,
 "nbformat_minor": 4
}
